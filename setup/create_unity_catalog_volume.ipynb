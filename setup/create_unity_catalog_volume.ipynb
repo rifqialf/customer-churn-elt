{
 "cells": [
  {
   "cell_type": "markdown",
   "metadata": {
    "application/vnd.databricks.v1+cell": {
     "cellMetadata": {},
     "inputWidgets": {},
     "nuid": "94b5d433-44a3-4527-88db-d5b75fc4397b",
     "showTitle": false,
     "title": ""
    }
   },
   "source": [
    "#### Create Unity Catalog Volume to store California County shapefile and geojson files"
   ]
  },
  {
   "cell_type": "code",
   "execution_count": 0,
   "metadata": {
    "application/vnd.databricks.v1+cell": {
     "cellMetadata": {},
     "inputWidgets": {},
     "nuid": "8b256307-fdd7-4270-929b-71ca2347a5be",
     "showTitle": false,
     "title": ""
    }
   },
   "outputs": [],
   "source": [
    "%sql\n",
    "CREATE EXTERNAL LOCATION IF NOT EXISTS `customerchurnucdl_bronze`\n",
    "URL 'abfss://bronze@customerchurnucextdl.dfs.core.windows.net'\n",
    "WITH (STORAGE CREDENTIAL `customer-churn-dl-ac`);"
   ]
  },
  {
   "cell_type": "code",
   "execution_count": 0,
   "metadata": {
    "application/vnd.databricks.v1+cell": {
     "cellMetadata": {},
     "inputWidgets": {},
     "nuid": "5508c9eb-9b65-41f3-af54-84af9d7a9b6e",
     "showTitle": false,
     "title": ""
    }
   },
   "outputs": [],
   "source": [
    "%sql\n",
    "CREATE EXTERNAL VOLUME customerchurn.bronze.ca_county\n",
    "LOCATION 'abfss://bronze@customerchurnucextdl.dfs.core.windows.net/ca_county';"
   ]
  }
 ],
 "metadata": {
  "application/vnd.databricks.v1+notebook": {
   "dashboards": [],
   "environmentMetadata": {
    "base_environment": "",
    "client": "1"
   },
   "language": "python",
   "notebookMetadata": {
    "pythonIndentUnit": 4
   },
   "notebookName": "create_unity_catalog_volume",
   "widgets": {}
  }
 },
 "nbformat": 4,
 "nbformat_minor": 0
}
