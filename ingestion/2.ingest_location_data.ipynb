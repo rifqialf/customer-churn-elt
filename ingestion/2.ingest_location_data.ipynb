{
 "cells": [
  {
   "cell_type": "markdown",
   "metadata": {
    "application/vnd.databricks.v1+cell": {
     "cellMetadata": {
      "byteLimit": 2048000,
      "rowLimit": 10000
     },
     "inputWidgets": {},
     "nuid": "f39d37dc-42dd-423e-b455-46d4c9e45a30",
     "showTitle": false,
     "title": ""
    }
   },
   "source": [
    "### Ingest location file\n",
    "1. Create schema\n",
    "2. Read the file\n",
    "3. Perform small transformation (rename columns, add ingestion_time column)\n",
    "4. Write data as new table, or upsert the data into existing table with same schema"
   ]
  },
  {
   "cell_type": "code",
   "execution_count": 0,
   "metadata": {
    "application/vnd.databricks.v1+cell": {
     "cellMetadata": {
      "byteLimit": 2048000,
      "rowLimit": 10000
     },
     "inputWidgets": {},
     "nuid": "77ca67b2-c381-44cc-890e-fcb827be14ce",
     "showTitle": false,
     "title": ""
    }
   },
   "outputs": [],
   "source": [
    "# Creating a text input widget for parameter \"p_file_date\"\n",
    "dbutils.widgets.text(\"p_file_date\", \"\")"
   ]
  },
  {
   "cell_type": "code",
   "execution_count": 0,
   "metadata": {
    "application/vnd.databricks.v1+cell": {
     "cellMetadata": {
      "byteLimit": 2048000,
      "rowLimit": 10000
     },
     "inputWidgets": {},
     "nuid": "b1ce8c5a-c170-45ca-b2b8-d24b17c6562c",
     "showTitle": false,
     "title": ""
    }
   },
   "outputs": [],
   "source": [
    "# Get the value of the parameters from the text input widget\n",
    "var_file_date = dbutils.widgets.get(\"p_file_date\")"
   ]
  },
  {
   "cell_type": "code",
   "execution_count": 0,
   "metadata": {
    "application/vnd.databricks.v1+cell": {
     "cellMetadata": {
      "byteLimit": 2048000,
      "rowLimit": 10000
     },
     "inputWidgets": {},
     "nuid": "1cca7b0b-0455-4d47-ade4-2877fe9dbf7a",
     "showTitle": false,
     "title": ""
    }
   },
   "outputs": [],
   "source": [
    "%run \"../includes/configuration\""
   ]
  },
  {
   "cell_type": "code",
   "execution_count": 0,
   "metadata": {
    "application/vnd.databricks.v1+cell": {
     "cellMetadata": {
      "byteLimit": 2048000,
      "rowLimit": 10000
     },
     "inputWidgets": {},
     "nuid": "6ccaa0ca-91c8-4157-bb31-dd24b3baac64",
     "showTitle": false,
     "title": ""
    }
   },
   "outputs": [],
   "source": [
    "%run \"../includes/common_functions\""
   ]
  },
  {
   "cell_type": "markdown",
   "metadata": {
    "application/vnd.databricks.v1+cell": {
     "cellMetadata": {
      "byteLimit": 2048000,
      "rowLimit": 10000
     },
     "inputWidgets": {},
     "nuid": "f6290047-f616-4856-be63-3d7393706bc8",
     "showTitle": false,
     "title": ""
    }
   },
   "source": [
    "##### Step 1 - Read the CSV file"
   ]
  },
  {
   "cell_type": "code",
   "execution_count": 0,
   "metadata": {
    "application/vnd.databricks.v1+cell": {
     "cellMetadata": {
      "byteLimit": 2048000,
      "rowLimit": 10000
     },
     "inputWidgets": {},
     "nuid": "e03714d7-da0c-48a0-b0a1-e09900c3030e",
     "showTitle": false,
     "title": ""
    }
   },
   "outputs": [],
   "source": [
    "from pyspark.sql.functions import col, lit\n",
    "from pyspark.sql.types import StructField, StructType, StringType, IntegerType, DoubleType"
   ]
  },
  {
   "cell_type": "code",
   "execution_count": 0,
   "metadata": {
    "application/vnd.databricks.v1+cell": {
     "cellMetadata": {
      "byteLimit": 2048000,
      "rowLimit": 10000
     },
     "inputWidgets": {},
     "nuid": "3f9d3772-907e-4814-9757-58dc7f66f5ce",
     "showTitle": false,
     "title": ""
    }
   },
   "outputs": [],
   "source": [
    "# Create a schema for reading the data\n",
    "location_schema = StructType(fields=[StructField(\"Location ID\", StringType(), False),\n",
    "                                     StructField(\"Customer ID\", StringType(), False),\n",
    "                                     StructField(\"Count\", IntegerType(), True),\n",
    "                                     StructField(\"Country\", StringType(), True),\n",
    "                                     StructField(\"State\", StringType(), True),\n",
    "                                     StructField(\"City\", StringType(), True),\n",
    "                                     StructField(\"Zip Code\", IntegerType(), True),\n",
    "                                     StructField(\"Lat Long\", StringType(), True),\n",
    "                                     StructField(\"Latitude\", DoubleType(), True),\n",
    "                                     StructField(\"Longitude\", DoubleType(), True)\n",
    "                                    ])"
   ]
  },
  {
   "cell_type": "code",
   "execution_count": 0,
   "metadata": {
    "application/vnd.databricks.v1+cell": {
     "cellMetadata": {
      "byteLimit": 2048000,
      "rowLimit": 10000
     },
     "inputWidgets": {},
     "nuid": "b5a99ab1-6094-4ec4-b8ed-390b974cb853",
     "showTitle": false,
     "title": ""
    }
   },
   "outputs": [],
   "source": [
    "# Reading the data from storage using defined schema\n",
    "location_df = spark.read \\\n",
    "                    .option(\"header\", \"true\") \\\n",
    "                    .option(\"delimiter\", \",\") \\\n",
    "                    .schema(location_schema) \\\n",
    "                    .csv(f\"{raw_folder_path}/{var_file_date}/Telco_customer_churn_location.csv\")"
   ]
  },
  {
   "cell_type": "markdown",
   "metadata": {
    "application/vnd.databricks.v1+cell": {
     "cellMetadata": {
      "byteLimit": 2048000,
      "rowLimit": 10000
     },
     "inputWidgets": {},
     "nuid": "2c052890-4d24-4610-96bc-64341b61c567",
     "showTitle": false,
     "title": ""
    }
   },
   "source": [
    "### Step 2 - Select only required columns + Rename the columns + Add ingestion date"
   ]
  },
  {
   "cell_type": "code",
   "execution_count": 0,
   "metadata": {
    "application/vnd.databricks.v1+cell": {
     "cellMetadata": {
      "byteLimit": 2048000,
      "rowLimit": 10000
     },
     "inputWidgets": {},
     "nuid": "7bb6fafb-c520-48cc-b5fd-2fe4d3e45906",
     "showTitle": false,
     "title": ""
    }
   },
   "outputs": [],
   "source": [
    "# Select columns to use and rename them for consistency\n",
    "location_renamed_df = location_df.select(col(\"Customer ID\"), col(\"Zip Code\"), col(\"Latitude\"), col(\"Longitude\")) \\\n",
    "                            .withColumnRenamed(\"Customer ID\", \"customer_id\") \\\n",
    "                            .withColumnRenamed(\"Latitude\", \"latitude\") \\\n",
    "                            .withColumnRenamed(\"Longitude\", \"longitude\") \\\n",
    "                            .withColumnRenamed(\"Zip Code\", \"zip_code\")"
   ]
  },
  {
   "cell_type": "code",
   "execution_count": 0,
   "metadata": {
    "application/vnd.databricks.v1+cell": {
     "cellMetadata": {
      "byteLimit": 2048000,
      "rowLimit": 10000
     },
     "inputWidgets": {},
     "nuid": "6e6906f7-965b-4f57-b801-75715bcbd618",
     "showTitle": false,
     "title": ""
    }
   },
   "outputs": [],
   "source": [
    "# Using pre-defined add_ingestion function to create ingestion column\n",
    "location_final_df = add_ingestion(location_renamed_df)"
   ]
  },
  {
   "cell_type": "code",
   "execution_count": 0,
   "metadata": {
    "application/vnd.databricks.v1+cell": {
     "cellMetadata": {
      "byteLimit": 2048000,
      "rowLimit": 10000
     },
     "inputWidgets": {},
     "nuid": "c9f2d8fd-b3ea-4913-a902-ef4d5c5ad9b5",
     "showTitle": false,
     "title": ""
    }
   },
   "outputs": [
    {
     "output_type": "stream",
     "name": "stdout",
     "output_type": "stream",
     "text": [
      "+-------+-----------+------------------+------------------+-------------------+\n|summary|customer_id|          zip_code|          latitude|          longitude|\n+-------+-----------+------------------+------------------+-------------------+\n|  count|       6598|              6598|              6598|               6598|\n|   mean|       NULL| 93522.09639284632| 36.21661099257365|-119.80349616717132|\n| stddev|       NULL|1812.3485655719824|2.4334029577773046| 2.1608903865645774|\n|    min| 0002-ORFBO|             90001|         32.555828|        -124.301372|\n|    max| 9995-HOTOH|             96150|         41.962127|        -114.192901|\n+-------+-----------+------------------+------------------+-------------------+\n\n"
     ]
    }
   ],
   "source": [
    "# Check the description of the data\n",
    "# location_final_df.describe().show()"
   ]
  },
  {
   "cell_type": "code",
   "execution_count": 0,
   "metadata": {
    "application/vnd.databricks.v1+cell": {
     "cellMetadata": {
      "byteLimit": 2048000,
      "rowLimit": 10000
     },
     "inputWidgets": {},
     "nuid": "e3b5e0c0-2900-4bd7-bccd-a52a5e923cd8",
     "showTitle": false,
     "title": ""
    }
   },
   "outputs": [
    {
     "output_type": "stream",
     "name": "stdout",
     "output_type": "stream",
     "text": [
      "+-----------+--------+---------+-----------+--------------------+\n|customer_id|zip_code| latitude|  longitude|      ingestion_time|\n+-----------+--------+---------+-----------+--------------------+\n| 8779-QRDMV|   90022| 34.02381|-118.156582|2024-09-19 09:45:...|\n| 7495-OOKFY|   90063|34.044271|-118.185237|2024-09-19 09:45:...|\n| 1658-BYGOY|   90065|34.108833|-118.229715|2024-09-19 09:45:...|\n| 4598-XLKNJ|   90303|33.936291|-118.332639|2024-09-19 09:45:...|\n| 4846-WHAFZ|   90602|33.972119|-118.020188|2024-09-19 09:45:...|\n+-----------+--------+---------+-----------+--------------------+\nonly showing top 5 rows\n\n"
     ]
    }
   ],
   "source": [
    "# Show the top 5 of the dataframe for checking\n",
    "# location_final_df.show(5)"
   ]
  },
  {
   "cell_type": "markdown",
   "metadata": {
    "application/vnd.databricks.v1+cell": {
     "cellMetadata": {
      "byteLimit": 2048000,
      "rowLimit": 10000
     },
     "inputWidgets": {},
     "nuid": "20be58c7-b632-4f74-a1a2-017ee57d3db5",
     "showTitle": false,
     "title": ""
    }
   },
   "source": [
    "### Step 3 - Write data"
   ]
  },
  {
   "cell_type": "code",
   "execution_count": 0,
   "metadata": {
    "application/vnd.databricks.v1+cell": {
     "cellMetadata": {
      "byteLimit": 2048000,
      "rowLimit": 10000
     },
     "inputWidgets": {},
     "nuid": "307c9fcb-6745-402b-8737-495f82e8dc02",
     "showTitle": false,
     "title": ""
    }
   },
   "outputs": [
    {
     "output_type": "execute_result",
     "data": {
      "text/plain": [
       "'A new table has been succesfully created at: customer_churn.silver.location'"
      ]
     },
     "execution_count": 32,
     "metadata": {},
     "output_type": "execute_result"
    }
   ],
   "source": [
    "# Using pre-defined create_or_upsert_managed_delta_table function\n",
    "# to write new table or upsert data into existing table with same schema\n",
    "delta_table_catalog_path = \"customerchurn.silver.location\"\n",
    "create_or_upsert_managed_delta_table(location_final_df, delta_table_catalog_path)"
   ]
  },
  {
   "cell_type": "code",
   "execution_count": 0,
   "metadata": {
    "application/vnd.databricks.v1+cell": {
     "cellMetadata": {
      "byteLimit": 2048000,
      "rowLimit": 10000
     },
     "inputWidgets": {},
     "nuid": "f40f52de-4b43-4b92-9fff-332a051f7ef4",
     "showTitle": false,
     "title": ""
    }
   },
   "outputs": [],
   "source": [
    "# Exit the notebook - useful when running multiple notebooks\n",
    "dbutils.notebook.exit(\"Success\")"
   ]
  }
 ],
 "metadata": {
  "application/vnd.databricks.v1+notebook": {
   "dashboards": [],
   "environmentMetadata": {
    "base_environment": "",
    "client": "1"
   },
   "language": "python",
   "notebookMetadata": {
    "mostRecentlyExecutedCommandWithImplicitDF": {
     "commandId": 1787745154005722,
     "dataframes": [
      "_sqldf"
     ]
    },
    "pythonIndentUnit": 4
   },
   "notebookName": "2.ingest_location_data",
   "widgets": {}
  }
 },
 "nbformat": 4,
 "nbformat_minor": 0
}
