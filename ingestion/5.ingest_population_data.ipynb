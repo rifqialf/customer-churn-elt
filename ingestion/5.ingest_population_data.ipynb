{
 "cells": [
  {
   "cell_type": "markdown",
   "metadata": {
    "application/vnd.databricks.v1+cell": {
     "cellMetadata": {
      "byteLimit": 2048000,
      "rowLimit": 10000
     },
     "inputWidgets": {},
     "nuid": "f39d37dc-42dd-423e-b455-46d4c9e45a30",
     "showTitle": false,
     "title": ""
    }
   },
   "source": [
    "### Ingest population file\n",
    "1. Create schema\n",
    "2. Read the file\n",
    "3. Perform small transformation (rename columns, add ingestion_time column)\n",
    "4. Write data as new table, or upsert the data into existing table with same schema"
   ]
  },
  {
   "cell_type": "code",
   "execution_count": 0,
   "metadata": {
    "application/vnd.databricks.v1+cell": {
     "cellMetadata": {
      "byteLimit": 2048000,
      "rowLimit": 10000
     },
     "inputWidgets": {},
     "nuid": "77ca67b2-c381-44cc-890e-fcb827be14ce",
     "showTitle": false,
     "title": ""
    }
   },
   "outputs": [],
   "source": [
    "# Creating a text input widget for parameter \"p_file_date\"\n",
    "dbutils.widgets.text(\"p_file_date\", \"\")"
   ]
  },
  {
   "cell_type": "code",
   "execution_count": 0,
   "metadata": {
    "application/vnd.databricks.v1+cell": {
     "cellMetadata": {
      "byteLimit": 2048000,
      "rowLimit": 10000
     },
     "inputWidgets": {},
     "nuid": "b1ce8c5a-c170-45ca-b2b8-d24b17c6562c",
     "showTitle": false,
     "title": ""
    }
   },
   "outputs": [],
   "source": [
    "# Get the value of the parameters from the text input widget\n",
    "var_file_date = dbutils.widgets.get(\"p_file_date\")"
   ]
  },
  {
   "cell_type": "code",
   "execution_count": 0,
   "metadata": {
    "application/vnd.databricks.v1+cell": {
     "cellMetadata": {
      "byteLimit": 2048000,
      "rowLimit": 10000
     },
     "inputWidgets": {},
     "nuid": "1cca7b0b-0455-4d47-ade4-2877fe9dbf7a",
     "showTitle": false,
     "title": ""
    }
   },
   "outputs": [],
   "source": [
    "%run \"../includes/configuration\""
   ]
  },
  {
   "cell_type": "code",
   "execution_count": 0,
   "metadata": {
    "application/vnd.databricks.v1+cell": {
     "cellMetadata": {
      "byteLimit": 2048000,
      "rowLimit": 10000
     },
     "inputWidgets": {},
     "nuid": "6ccaa0ca-91c8-4157-bb31-dd24b3baac64",
     "showTitle": false,
     "title": ""
    }
   },
   "outputs": [],
   "source": [
    "%run \"../includes/common_functions\""
   ]
  },
  {
   "cell_type": "markdown",
   "metadata": {
    "application/vnd.databricks.v1+cell": {
     "cellMetadata": {
      "byteLimit": 2048000,
      "rowLimit": 10000
     },
     "inputWidgets": {},
     "nuid": "f6290047-f616-4856-be63-3d7393706bc8",
     "showTitle": false,
     "title": ""
    }
   },
   "source": [
    "##### Step 1 - Read the CSV file"
   ]
  },
  {
   "cell_type": "code",
   "execution_count": 0,
   "metadata": {
    "application/vnd.databricks.v1+cell": {
     "cellMetadata": {
      "byteLimit": 2048000,
      "rowLimit": 10000
     },
     "inputWidgets": {},
     "nuid": "e03714d7-da0c-48a0-b0a1-e09900c3030e",
     "showTitle": false,
     "title": ""
    }
   },
   "outputs": [],
   "source": [
    "from pyspark.sql.functions import col, lit, translate\n",
    "from pyspark.sql.types import StructField, StructType, StringType, IntegerType"
   ]
  },
  {
   "cell_type": "code",
   "execution_count": 0,
   "metadata": {
    "application/vnd.databricks.v1+cell": {
     "cellMetadata": {
      "byteLimit": 2048000,
      "rowLimit": 10000
     },
     "inputWidgets": {},
     "nuid": "3f9d3772-907e-4814-9757-58dc7f66f5ce",
     "showTitle": false,
     "title": ""
    }
   },
   "outputs": [],
   "source": [
    "# Create a schema for reading the data\n",
    "population_schema = StructType(fields=[StructField(\"ID\", StringType(), False),\n",
    "                                       StructField(\"Zip Code\", IntegerType(), True),\n",
    "                                       StructField(\"Population\", StringType(), True)\n",
    "                                       ])"
   ]
  },
  {
   "cell_type": "code",
   "execution_count": 0,
   "metadata": {
    "application/vnd.databricks.v1+cell": {
     "cellMetadata": {
      "byteLimit": 2048000,
      "rowLimit": 10000
     },
     "inputWidgets": {},
     "nuid": "b5a99ab1-6094-4ec4-b8ed-390b974cb853",
     "showTitle": false,
     "title": ""
    }
   },
   "outputs": [],
   "source": [
    "# Reading the data from storage using defined schema\n",
    "try:\n",
    "    population_df = spark.read \\\n",
    "                            .option(\"header\", \"true\") \\\n",
    "                            .option(\"delimiter\", \",\") \\\n",
    "                            .schema(population_schema) \\\n",
    "                            .csv(f\"{raw_folder_path}/{var_file_date}/Telco_customer_churn_population.csv\")\n",
    "except Exception as e:\n",
    "    if 'PATH_NOT_FOUND' in str(e):\n",
    "        dbutils.notebook.exit(f\"Population data ingestion is skipped in this run: No population data found.\")\n",
    "    else:\n",
    "        raise e"
   ]
  },
  {
   "cell_type": "markdown",
   "metadata": {
    "application/vnd.databricks.v1+cell": {
     "cellMetadata": {
      "byteLimit": 2048000,
      "rowLimit": 10000
     },
     "inputWidgets": {},
     "nuid": "2c052890-4d24-4610-96bc-64341b61c567",
     "showTitle": false,
     "title": ""
    }
   },
   "source": [
    "### Step 2 - Select only required columns + Rename the columns + Add ingestion date"
   ]
  },
  {
   "cell_type": "code",
   "execution_count": 0,
   "metadata": {
    "application/vnd.databricks.v1+cell": {
     "cellMetadata": {
      "byteLimit": 2048000,
      "rowLimit": 10000
     },
     "inputWidgets": {},
     "nuid": "7bb6fafb-c520-48cc-b5fd-2fe4d3e45906",
     "showTitle": false,
     "title": ""
    }
   },
   "outputs": [],
   "source": [
    "# Select columns to use and rename them for consistency\n",
    "population_renamed_df = population_df.withColumnRenamed(\"Zip Code\", \"zip_code\") \\\n",
    "                                    .withColumnRenamed(\"Population\", \"population\") \\\n",
    "                                    .withColumn('population', translate('population', ',', '')) \\\n",
    "                                    .select(col(\"zip_code\"), col(\"population\").cast(IntegerType()))"
   ]
  },
  {
   "cell_type": "code",
   "execution_count": 0,
   "metadata": {
    "application/vnd.databricks.v1+cell": {
     "cellMetadata": {
      "byteLimit": 2048000,
      "rowLimit": 10000
     },
     "inputWidgets": {},
     "nuid": "6e6906f7-965b-4f57-b801-75715bcbd618",
     "showTitle": false,
     "title": ""
    }
   },
   "outputs": [],
   "source": [
    "# Using pre-defined add_ingestion function to create ingestion column\n",
    "population_final_df = add_ingestion(population_renamed_df)"
   ]
  },
  {
   "cell_type": "code",
   "execution_count": 0,
   "metadata": {
    "application/vnd.databricks.v1+cell": {
     "cellMetadata": {
      "byteLimit": 2048000,
      "rowLimit": 10000
     },
     "inputWidgets": {},
     "nuid": "c9f2d8fd-b3ea-4913-a902-ef4d5c5ad9b5",
     "showTitle": false,
     "title": ""
    }
   },
   "outputs": [
    {
     "output_type": "stream",
     "name": "stdout",
     "output_type": "stream",
     "text": [
      "+-------+------------------+------------------+\n|summary|          zip_code|        population|\n+-------+------------------+------------------+\n|  count|              1671|              1671|\n|   mean|  93678.9922202274|  20276.3842010772|\n| stddev|1817.7635912275455|20689.117300066067|\n|    min|             90001|                11|\n|    max|             96161|            105285|\n+-------+------------------+------------------+\n\n"
     ]
    }
   ],
   "source": [
    "# Check the description of the data\n",
    "# population_final_df.describe().show()"
   ]
  },
  {
   "cell_type": "code",
   "execution_count": 0,
   "metadata": {
    "application/vnd.databricks.v1+cell": {
     "cellMetadata": {
      "byteLimit": 2048000,
      "rowLimit": 10000
     },
     "inputWidgets": {},
     "nuid": "e3b5e0c0-2900-4bd7-bccd-a52a5e923cd8",
     "showTitle": false,
     "title": ""
    }
   },
   "outputs": [
    {
     "output_type": "stream",
     "name": "stdout",
     "output_type": "stream",
     "text": [
      "+--------+----------+--------------------+\n|zip_code|population|      ingestion_time|\n+--------+----------+--------------------+\n|   90001|     54492|2024-09-19 13:40:...|\n|   90002|     44586|2024-09-19 13:40:...|\n|   90003|     58198|2024-09-19 13:40:...|\n|   90004|     67852|2024-09-19 13:40:...|\n|   90005|     43019|2024-09-19 13:40:...|\n+--------+----------+--------------------+\nonly showing top 5 rows\n\n"
     ]
    }
   ],
   "source": [
    "# Show the top 5 of the dataframe for checking\n",
    "# population_final_df.show(5)"
   ]
  },
  {
   "cell_type": "markdown",
   "metadata": {
    "application/vnd.databricks.v1+cell": {
     "cellMetadata": {
      "byteLimit": 2048000,
      "rowLimit": 10000
     },
     "inputWidgets": {},
     "nuid": "20be58c7-b632-4f74-a1a2-017ee57d3db5",
     "showTitle": false,
     "title": ""
    }
   },
   "source": [
    "### Step 3 - Write data"
   ]
  },
  {
   "cell_type": "code",
   "execution_count": 0,
   "metadata": {
    "application/vnd.databricks.v1+cell": {
     "cellMetadata": {
      "byteLimit": 2048000,
      "rowLimit": 10000
     },
     "inputWidgets": {},
     "nuid": "307c9fcb-6745-402b-8737-495f82e8dc02",
     "showTitle": false,
     "title": ""
    }
   },
   "outputs": [],
   "source": [
    "# Using simple write method without upserting mechanism like other files\n",
    "# Since population data is not frequently updated; and update usually means overwriting existing data\n",
    "population_final_df.write.format(\"delta\").mode(\"overwrite\").saveAsTable(\"customerchurn.silver.population\")"
   ]
  },
  {
   "cell_type": "code",
   "execution_count": 0,
   "metadata": {
    "application/vnd.databricks.v1+cell": {
     "cellMetadata": {
      "byteLimit": 2048000,
      "rowLimit": 10000
     },
     "inputWidgets": {},
     "nuid": "f40f52de-4b43-4b92-9fff-332a051f7ef4",
     "showTitle": false,
     "title": ""
    }
   },
   "outputs": [],
   "source": [
    "# Exit the notebook - useful when running multiple notebooks\n",
    "dbutils.notebook.exit(\"Success\")"
   ]
  }
 ],
 "metadata": {
  "application/vnd.databricks.v1+notebook": {
   "dashboards": [],
   "environmentMetadata": {
    "base_environment": "",
    "client": "1"
   },
   "language": "python",
   "notebookMetadata": {
    "mostRecentlyExecutedCommandWithImplicitDF": {
     "commandId": 1787745154005722,
     "dataframes": [
      "_sqldf"
     ]
    },
    "pythonIndentUnit": 4
   },
   "notebookName": "5.ingest_population_data",
   "widgets": {}
  }
 },
 "nbformat": 4,
 "nbformat_minor": 0
}
