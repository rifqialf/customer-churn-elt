{
 "cells": [
  {
   "cell_type": "markdown",
   "metadata": {
    "application/vnd.databricks.v1+cell": {
     "cellMetadata": {
      "byteLimit": 2048000,
      "rowLimit": 10000
     },
     "inputWidgets": {},
     "nuid": "4a093cee-e864-45c9-929e-e3ee4d43bca9",
     "showTitle": false,
     "title": ""
    }
   },
   "source": [
    "### Intersect with County File\n",
    "1. Read files\n",
    "2. Intersect using geopandas\n",
    "3. Re-convert to Pyspark Dataframe\n",
    "4. Filter the rsult to only the churned customer"
   ]
  },
  {
   "cell_type": "markdown",
   "metadata": {
    "application/vnd.databricks.v1+cell": {
     "cellMetadata": {
      "byteLimit": 2048000,
      "rowLimit": 10000
     },
     "inputWidgets": {},
     "nuid": "454c5522-4378-4e16-8f28-dda408b51b4e",
     "showTitle": false,
     "title": ""
    }
   },
   "source": [
    "#### Read location file using geopandas"
   ]
  },
  {
   "cell_type": "code",
   "execution_count": 0,
   "metadata": {
    "application/vnd.databricks.v1+cell": {
     "cellMetadata": {
      "byteLimit": 2048000,
      "rowLimit": 10000
     },
     "inputWidgets": {},
     "nuid": "fca05436-4007-4b17-886e-523d28b47f2d",
     "showTitle": false,
     "title": ""
    }
   },
   "outputs": [
    {
     "output_type": "display_data",
     "data": {
      "application/vnd.databricks.v1+h3_hint": "",
      "text/plain": []
     },
     "metadata": {},
     "output_type": "display_data"
    }
   ],
   "source": [
    "# import geopandas (installed in cluster) and current_timestamp\n",
    "import geopandas as gpd\n",
    "from pyspark.sql.functions import current_timestamp"
   ]
  },
  {
   "cell_type": "code",
   "execution_count": 0,
   "metadata": {
    "application/vnd.databricks.v1+cell": {
     "cellMetadata": {
      "byteLimit": 2048000,
      "rowLimit": 10000
     },
     "inputWidgets": {},
     "nuid": "70eaadbc-1d48-4854-a1ba-4254ddd5c654",
     "showTitle": false,
     "title": ""
    }
   },
   "outputs": [],
   "source": [
    "# Read silver table of location as Pandas dataframe\n",
    "location_pdf = spark.read.table('customerchurn.silver.location').toPandas()"
   ]
  },
  {
   "cell_type": "code",
   "execution_count": 0,
   "metadata": {
    "application/vnd.databricks.v1+cell": {
     "cellMetadata": {
      "byteLimit": 2048000,
      "rowLimit": 10000
     },
     "inputWidgets": {},
     "nuid": "607d74af-d1c5-4541-a972-3f6d23e39f32",
     "showTitle": false,
     "title": ""
    }
   },
   "outputs": [],
   "source": [
    "# Convert location dataframe into geopandas dataframe\n",
    "location_gdf = gpd.GeoDataFrame(\n",
    "    location_pdf,\n",
    "    crs=\"EPSG:4326\",\n",
    "    geometry=gpd.points_from_xy(location_pdf.longitude, location_pdf.latitude)\n",
    ")"
   ]
  },
  {
   "cell_type": "markdown",
   "metadata": {
    "application/vnd.databricks.v1+cell": {
     "cellMetadata": {
      "byteLimit": 2048000,
      "rowLimit": 10000
     },
     "inputWidgets": {},
     "nuid": "f5d1b577-82dd-422c-9585-4097b5d440db",
     "showTitle": false,
     "title": ""
    }
   },
   "source": [
    "#### Read county shapefile using geopandas"
   ]
  },
  {
   "cell_type": "code",
   "execution_count": 0,
   "metadata": {
    "application/vnd.databricks.v1+cell": {
     "cellMetadata": {
      "byteLimit": 2048000,
      "rowLimit": 10000
     },
     "inputWidgets": {},
     "nuid": "e7e022d5-860c-47c7-bafa-2e6a3a09da4b",
     "showTitle": false,
     "title": ""
    }
   },
   "outputs": [],
   "source": [
    "# Read shapefile from Unity Catalog Volume and convert to geopandas dataframe\n",
    "county_shp_path = '/Volumes/ext_catalog/bronze/ca_county/CA_Counties.shp'\n",
    "county_gdf = gpd.read_file(county_shp_path) \\\n",
    "                .to_crs(\"EPSG:4326\")"
   ]
  },
  {
   "cell_type": "code",
   "execution_count": 0,
   "metadata": {
    "application/vnd.databricks.v1+cell": {
     "cellMetadata": {
      "byteLimit": 2048000,
      "rowLimit": 10000
     },
     "inputWidgets": {},
     "nuid": "e6a75d9b-8e6a-4040-896e-00a4b1d61c9f",
     "showTitle": false,
     "title": ""
    }
   },
   "outputs": [],
   "source": [
    "# county_gdf.head()"
   ]
  },
  {
   "cell_type": "markdown",
   "metadata": {
    "application/vnd.databricks.v1+cell": {
     "cellMetadata": {
      "byteLimit": 2048000,
      "rowLimit": 10000
     },
     "inputWidgets": {},
     "nuid": "4e26518c-89a5-4548-bd72-9a774a42c560",
     "showTitle": false,
     "title": ""
    }
   },
   "source": [
    "#### Perform intersection to both data"
   ]
  },
  {
   "cell_type": "code",
   "execution_count": 0,
   "metadata": {
    "application/vnd.databricks.v1+cell": {
     "cellMetadata": {
      "byteLimit": 2048000,
      "rowLimit": 10000
     },
     "inputWidgets": {},
     "nuid": "00430718-6a02-464b-bbe5-3686b20b48a9",
     "showTitle": false,
     "title": ""
    }
   },
   "outputs": [],
   "source": [
    "# Perform spatial join to check if location points intersect with county polygons\n",
    "result_gdf = gpd.sjoin(location_gdf, county_gdf)"
   ]
  },
  {
   "cell_type": "code",
   "execution_count": 0,
   "metadata": {
    "application/vnd.databricks.v1+cell": {
     "cellMetadata": {
      "byteLimit": 2048000,
      "rowLimit": 10000
     },
     "inputWidgets": {},
     "nuid": "d5663c66-2190-424e-9439-a76227d51c16",
     "showTitle": false,
     "title": ""
    }
   },
   "outputs": [],
   "source": [
    "# result_gdf.plot(column=\"NAME\", markersize=1)"
   ]
  },
  {
   "cell_type": "code",
   "execution_count": 0,
   "metadata": {
    "application/vnd.databricks.v1+cell": {
     "cellMetadata": {
      "byteLimit": 2048000,
      "rowLimit": 10000
     },
     "inputWidgets": {},
     "nuid": "9ec69784-0417-41d9-8400-f12237588aac",
     "showTitle": false,
     "title": ""
    }
   },
   "outputs": [],
   "source": [
    "# Select columns to be used, rename the columns for consistency, and reset index\n",
    "result_final_gdf = result_gdf[[\"customer_id\", \"zip_code\", \"latitude\", \"longitude\", \"NAME\"]] \\\n",
    "                    .rename(columns ={'NAME':'county_name'}) \\\n",
    "                    .reset_index(drop=True)"
   ]
  },
  {
   "cell_type": "markdown",
   "metadata": {
    "application/vnd.databricks.v1+cell": {
     "cellMetadata": {
      "byteLimit": 2048000,
      "rowLimit": 10000
     },
     "inputWidgets": {},
     "nuid": "d2796fc7-c037-4afb-8513-17da9609aaa6",
     "showTitle": false,
     "title": ""
    }
   },
   "source": [
    "#### Re-convert to Pyspark Dataframe"
   ]
  },
  {
   "cell_type": "code",
   "execution_count": 0,
   "metadata": {
    "application/vnd.databricks.v1+cell": {
     "cellMetadata": {
      "byteLimit": 2048000,
      "rowLimit": 10000
     },
     "inputWidgets": {},
     "nuid": "57c8622f-2c70-466c-a1ec-8bd390851bbb",
     "showTitle": false,
     "title": ""
    }
   },
   "outputs": [],
   "source": [
    "# Create spark dataframe from the intersection result\n",
    "location_county_df = spark.createDataFrame(result_final_gdf) \\\n",
    "                            .drop('index') \\\n",
    "                            .withColumn('processing_date', current_timestamp())"
   ]
  },
  {
   "cell_type": "code",
   "execution_count": 0,
   "metadata": {
    "application/vnd.databricks.v1+cell": {
     "cellMetadata": {
      "byteLimit": 2048000,
      "rowLimit": 10000
     },
     "inputWidgets": {},
     "nuid": "04cf3a94-c791-49f6-9371-275f28f888e4",
     "showTitle": false,
     "title": ""
    }
   },
   "outputs": [],
   "source": [
    "# location_county_df.show(4)"
   ]
  },
  {
   "cell_type": "markdown",
   "metadata": {
    "application/vnd.databricks.v1+cell": {
     "cellMetadata": {
      "byteLimit": 2048000,
      "rowLimit": 10000
     },
     "inputWidgets": {},
     "nuid": "e7b847b3-eaa6-414a-89fb-ea517df74d1e",
     "showTitle": false,
     "title": ""
    }
   },
   "source": [
    "#### Filter location-county file for only churned customer with status file"
   ]
  },
  {
   "cell_type": "code",
   "execution_count": 0,
   "metadata": {
    "application/vnd.databricks.v1+cell": {
     "cellMetadata": {
      "byteLimit": 2048000,
      "rowLimit": 10000
     },
     "inputWidgets": {},
     "nuid": "dd94ef1a-ac30-46c8-9d24-dab3cf8192e0",
     "showTitle": false,
     "title": ""
    }
   },
   "outputs": [],
   "source": [
    "# Use spark SQL to read status_churned table\n",
    "status_churned_df = spark.sql(\"\"\"\n",
    "                              SELECT *\n",
    "                              FROM customerchurn.gold.status_churned\n",
    "                              \"\"\")"
   ]
  },
  {
   "cell_type": "code",
   "execution_count": 0,
   "metadata": {
    "application/vnd.databricks.v1+cell": {
     "cellMetadata": {
      "byteLimit": 2048000,
      "rowLimit": 10000
     },
     "inputWidgets": {},
     "nuid": "1b201f7c-a021-4d2e-bf24-9dba25914a06",
     "showTitle": false,
     "title": ""
    }
   },
   "outputs": [],
   "source": [
    "# Perform semi-join with location_county_df and status_churned_df\n",
    "location_churned_df = location_county_df \\\n",
    "                        .join(status_churned_df, location_county_df.customer_id == status_churned_df.customer_id, \"semi\") \\\n",
    "                        .withColumn('processing_date', current_timestamp())"
   ]
  },
  {
   "cell_type": "markdown",
   "metadata": {
    "application/vnd.databricks.v1+cell": {
     "cellMetadata": {
      "byteLimit": 2048000,
      "rowLimit": 10000
     },
     "inputWidgets": {},
     "nuid": "5aca2466-bbe5-4589-bf56-b608373587a1",
     "showTitle": false,
     "title": ""
    }
   },
   "source": [
    "#### Write the gold file"
   ]
  },
  {
   "cell_type": "code",
   "execution_count": 0,
   "metadata": {
    "application/vnd.databricks.v1+cell": {
     "cellMetadata": {
      "byteLimit": 2048000,
      "rowLimit": 10000
     },
     "inputWidgets": {},
     "nuid": "1352880d-1bdc-4cf1-9a95-5419d7afdfcd",
     "showTitle": false,
     "title": ""
    }
   },
   "outputs": [],
   "source": [
    "location_churned_df.write.format(\"delta\").mode(\"overwrite\").saveAsTable(\"customerchurn.gold.location_churned\")"
   ]
  }
 ],
 "metadata": {
  "application/vnd.databricks.v1+notebook": {
   "dashboards": [],
   "environmentMetadata": {
    "base_environment": "",
    "client": "1"
   },
   "language": "python",
   "notebookMetadata": {
    "mostRecentlyExecutedCommandWithImplicitDF": {
     "commandId": 2341949115846676,
     "dataframes": [
      "_sqldf"
     ]
    },
    "pythonIndentUnit": 4
   },
   "notebookName": "2.intersect_with_county",
   "widgets": {}
  }
 },
 "nbformat": 4,
 "nbformat_minor": 0
}
