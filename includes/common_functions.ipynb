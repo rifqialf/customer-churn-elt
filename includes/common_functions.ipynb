{
 "cells": [
  {
   "cell_type": "code",
   "execution_count": 0,
   "metadata": {
    "application/vnd.databricks.v1+cell": {
     "cellMetadata": {
      "byteLimit": 2048000,
      "rowLimit": 10000
     },
     "inputWidgets": {},
     "nuid": "42cb4d15-5f36-4c0d-9c76-c87709d75432",
     "showTitle": false,
     "title": ""
    }
   },
   "outputs": [],
   "source": [
    "from pyspark.sql.functions import current_timestamp\n",
    "\n",
    "def add_ingestion(input_df):\n",
    "    output_df = input_df.withColumn(\"ingestion_time\", current_timestamp())\n",
    "    return output_df"
   ]
  },
  {
   "cell_type": "code",
   "execution_count": 0,
   "metadata": {
    "application/vnd.databricks.v1+cell": {
     "cellMetadata": {},
     "inputWidgets": {},
     "nuid": "8b6086ab-da10-496f-8a30-01b4197c95f8",
     "showTitle": false,
     "title": ""
    }
   },
   "outputs": [],
   "source": [
    "def create_or_upsert_managed_delta_table(df, delta_table_catalog_path):\n",
    "    # Check if the Delta table exists\n",
    "    tableExists = spark._jsparkSession.catalog().tableExists(delta_table_catalog_path)\n",
    "\n",
    "    if tableExists:\n",
    "        # Register the new data as a temporary view\n",
    "        df.createOrReplaceTempView(\"updates\")\n",
    "        \n",
    "        # Perform the merge operation\n",
    "        spark.sql(f\"\"\"\n",
    "                  MERGE INTO {delta_table_catalog_path} AS existing\n",
    "                  USING updates\n",
    "                  ON existing.customer_id = updates.customer_id\n",
    "                  WHEN MATCHED THEN\n",
    "                    UPDATE SET *\n",
    "                  WHEN NOT MATCHED THEN\n",
    "                    INSERT *\n",
    "                  \"\"\")\n",
    "        return f\"New data has been succesfully merged to table: {delta_table_catalog_path}\"\n",
    "    \n",
    "    else:\n",
    "        # If the table does not exist, write the DataFrame as a new Delta table\n",
    "        df.write.format(\"delta\").mode(\"overwrite\").saveAsTable(delta_table_catalog_path)\n",
    "        return f\"A new table has been succesfully created at: {delta_table_catalog_path}\""
   ]
  }
 ],
 "metadata": {
  "application/vnd.databricks.v1+notebook": {
   "dashboards": [],
   "environmentMetadata": {
    "base_environment": "",
    "client": "1"
   },
   "language": "python",
   "notebookMetadata": {
    "pythonIndentUnit": 4
   },
   "notebookName": "common_functions",
   "widgets": {}
  }
 },
 "nbformat": 4,
 "nbformat_minor": 0
}
